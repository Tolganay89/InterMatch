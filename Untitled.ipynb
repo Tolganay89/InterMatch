{
 "cells": [
  {
   "cell_type": "markdown",
   "id": "415152bb",
   "metadata": {},
   "source": [
    "# Student\n"
   ]
  },
  {
   "cell_type": "code",
   "execution_count": 6,
   "id": "76cccef9",
   "metadata": {},
   "outputs": [
    {
     "name": "stdout",
     "output_type": "stream",
     "text": [
      "['12:30', '1', '1:30'] and  ['3', '3:30', '4']\n",
      "['10', '10:30', '11', '11:30', '12', '12:30'] and  ['3', '3:30', '4']\n",
      "['11', '11:30', '12', '12:30', '1', '1:30'] and  ['4']\n",
      "['11', '11:30', '12', '12:30', '1', '1:30'] and  ['4']\n",
      "['10', '10:30'] and  ['1', '1:30', '2', '2:30', '3', '3:30', '4']\n",
      "['10', '10:30', '11', '11:30', '12', '12:30', '1', '1:30', '2'] and  ['4']\n",
      "['10', '10:30', '11', '11:30'] and  ['3', '3:30', '4']\n"
     ]
    }
   ],
   "source": [
    "import pandas as pd\n",
    "\n",
    "from openpyxl import load_workbook\n",
    "\n",
    "import shutil\n",
    "#  getting the list of the students  store them in arr1 and all_student_final\n",
    "# excel file with all the students names and free time \n",
    "stu = pd.read_excel(\"stufree.xlsx\")\n",
    "\n",
    "\n",
    "# getting access to time that the student free in \n",
    "free_time = list(stu['free'])\n",
    "\n",
    "arr1 = []\n",
    "\n",
    "arr = [\"10\", \"10:30\", \"11\", \"11:30\", \"12\", \"12:30\", \"1\", \"1:30\", \"2\", \"2:30\", \"3\", \"3:30\", \"4\", \"4:30\"]\n",
    "\n",
    "for i in free_time:\n",
    "    if \"and\" in i:\n",
    "         i = i.replace(\"and\", \"--\")\n",
    "    i = i.replace(\" \", \"\")\n",
    "    i = i.replace(\".\", \"\")\n",
    "    i = i.replace(\"230\", \"2:30\")\n",
    "    i = i.replace(\"330\", \"3:30\")\n",
    "    i = i.replace(\"5\", \"4:30\")\n",
    "    \n",
    "    x = i.split(\"-\")\n",
    "    if len(x) > 2: \n",
    "        st = f'{arr[arr.index(x[0]):arr.index(x[1])]} and  {arr[arr.index(x[3]) : arr.index(x[4])]}'\n",
    "        print(st)\n",
    "        arr1.append(st)\n",
    "    else:\n",
    "        \n",
    "        arr1.append(arr[arr.index(x[0]):arr.index(x[1])])\n",
    "    \n",
    "all_student_final = arr1\n",
    "# for i in arr1:    \n",
    "#     print(i)"
   ]
  },
  {
   "cell_type": "markdown",
   "id": "0f81a3e4",
   "metadata": {},
   "source": [
    "# create a file insert cloumn with intervals as arrays of slots that the students are free in"
   ]
  },
  {
   "cell_type": "code",
   "execution_count": 8,
   "id": "6c1d07be",
   "metadata": {},
   "outputs": [],
   "source": [
    "\n",
    "\n",
    "shutil.copy(\"stufree.xlsx\", \"stufreeEdited.xlsx\")\n",
    "writer = pd.ExcelWriter('stufreeEdited.xlsx', engine='openpyxl') \n",
    "df = pd.read_excel(\"stufree.xlsx\");\n",
    "wb  = writer.book\n",
    "df.insert(4, 'Time_array', arr1,  allow_duplicates = False)\n",
    "df.to_excel(writer, index=False)\n",
    "wb.save('stufreeEdited.xlsx')"
   ]
  },
  {
   "cell_type": "code",
   "execution_count": 9,
   "id": "f62f9358",
   "metadata": {},
   "outputs": [
    {
     "data": {
      "text/plain": [
       "['Ashlyn Reich',\n",
       " 'Aurelio Molina',\n",
       " 'Avril Boling',\n",
       " 'Belva Daugherty',\n",
       " 'Brandee Howerton',\n",
       " 'Carolann Willett',\n",
       " 'Cassy Bullard',\n",
       " 'Chi Locke',\n",
       " 'Chloe Marlow',\n",
       " 'Clair Crum',\n",
       " 'Conception Bollinger',\n",
       " 'Cristie Mcneely',\n",
       " 'Danyel Melancon',\n",
       " 'Eleanora Lunsford',\n",
       " 'Estefana Terrell',\n",
       " 'Fabian Marin',\n",
       " 'Felipa Kenyon',\n",
       " 'Gaynelle Kasper',\n",
       " 'Hye Fain',\n",
       " 'Isabella Stock',\n",
       " 'Jayme Turley',\n",
       " 'Joesph Fairbanks',\n",
       " 'Leontine Talbot',\n",
       " 'Ligia Lancaster',\n",
       " 'Lilli Vail',\n",
       " 'Maryanne Burkholder',\n",
       " 'Mathilda Snead',\n",
       " 'Mellisa Daly',\n",
       " 'Myrle Stephenson',\n",
       " 'Norberto Lavender',\n",
       " 'Palmira Lyles',\n",
       " 'Rachell Villareal',\n",
       " 'Reed Williford',\n",
       " 'Riva Hurd',\n",
       " 'Rivka Wiley',\n",
       " 'Ronald Pinkerton',\n",
       " 'Samual Blank',\n",
       " 'Saran Albers',\n",
       " 'Sibyl Peacock',\n",
       " 'Stephany Willard',\n",
       " 'Taryn Choate',\n",
       " 'Vanetta Forbes',\n",
       " 'Viviana Stockton',\n",
       " 'Xenia Valenti']"
      ]
     },
     "execution_count": 9,
     "metadata": {},
     "output_type": "execute_result"
    }
   ],
   "source": [
    "# create an array of the students full name\n",
    "fname = stu['fname']\n",
    "lname = stu['lname']\n",
    "all_student = [] \n",
    "for f, l in zip(fname, lname):\n",
    "   all_student.append(f + \" \" + l)\n",
    "all_student"
   ]
  },
  {
   "cell_type": "markdown",
   "id": "9b4bd054",
   "metadata": {},
   "source": [
    "# Reading company"
   ]
  },
  {
   "cell_type": "code",
   "execution_count": 10,
   "id": "de20b941",
   "metadata": {},
   "outputs": [
    {
     "name": "stdout",
     "output_type": "stream",
     "text": [
      "sheets: \n",
      "Apple\n",
      "Facebook\n"
     ]
    }
   ],
   "source": [
    "import pandas as pd\n",
    "from openpyxl import load_workbook\n",
    "\n",
    "wb = load_workbook(\"company_list.xlsx\")\n",
    "wb.active\n",
    "print(\"sheets: \")\n",
    "for sheet in wb.worksheets:\n",
    "    print (str(sheet).replace('<Worksheet \"', \"\").replace('\">', \"\"))\n",
    "    "
   ]
  }
 ],
 "metadata": {
  "kernelspec": {
   "display_name": "Python 3 (ipykernel)",
   "language": "python",
   "name": "python3"
  },
  "language_info": {
   "codemirror_mode": {
    "name": "ipython",
    "version": 3
   },
   "file_extension": ".py",
   "mimetype": "text/x-python",
   "name": "python",
   "nbconvert_exporter": "python",
   "pygments_lexer": "ipython3",
   "version": "3.8.2"
  }
 },
 "nbformat": 4,
 "nbformat_minor": 5
}
