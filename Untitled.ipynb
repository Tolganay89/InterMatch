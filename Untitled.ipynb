{
 "cells": [
  {
   "cell_type": "markdown",
   "id": "2787a7ca",
   "metadata": {},
   "source": [
    "# Student\n"
   ]
  },
  {
   "cell_type": "code",
   "execution_count": 23,
   "id": "e6025d63",
   "metadata": {},
   "outputs": [
    {
     "name": "stdout",
     "output_type": "stream",
     "text": [
      "['12:30', '1', '1:30'] and  ['3', '3:30', '4']\n",
      "['10', '10:30', '11', '11:30', '12', '12:30'] and  ['3', '3:30', '4']\n",
      "['11', '11:30', '12', '12:30', '1', '1:30'] and  ['4']\n",
      "['11', '11:30', '12', '12:30', '1', '1:30'] and  ['4']\n",
      "['10', '10:30'] and  ['1', '1:30', '2', '2:30', '3', '3:30', '4']\n",
      "['10', '10:30', '11', '11:30', '12', '12:30', '1', '1:30', '2'] and  ['4']\n",
      "['10', '10:30', '11', '11:30'] and  ['3', '3:30', '4']\n"
     ]
    }
   ],
   "source": [
    "import pandas as pd\n",
    "import random\n",
    "from openpyxl import load_workbook\n",
    "\n",
    "import shutil\n",
    "#  getting the list of the students  store them in arr1 and all_student_final\n",
    "# excel file with all the students names and free time \n",
    "stu = pd.read_excel(\"stufree.xlsx\")\n",
    "\n",
    "\n",
    "# getting access to time that the student free in \n",
    "free_time = list(stu['free'])\n",
    "\n",
    "arr1 = []\n",
    "\n",
    "arr = [\"10\", \"10:30\", \"11\", \"11:30\", \"12\", \"12:30\", \"1\", \"1:30\", \"2\", \"2:30\", \"3\", \"3:30\", \"4\", \"4:30\"]\n",
    "\n",
    "for i in free_time:\n",
    "    if \"and\" in i:\n",
    "         i = i.replace(\"and\", \"--\")\n",
    "    i = i.replace(\" \", \"\")\n",
    "    i = i.replace(\".\", \"\")\n",
    "    i = i.replace(\"230\", \"2:30\")\n",
    "    i = i.replace(\"330\", \"3:30\")\n",
    "    i = i.replace(\"5\", \"4:30\")\n",
    "    \n",
    "    x = i.split(\"-\")\n",
    "    if len(x) > 2: \n",
    "        st = f'{arr[arr.index(x[0]):arr.index(x[1])]} and  {arr[arr.index(x[3]) : arr.index(x[4])]}'\n",
    "        print(st)\n",
    "        arr1.append(st)\n",
    "    else:\n",
    "        \n",
    "        arr1.append(arr[arr.index(x[0]):arr.index(x[1])])\n",
    "    \n",
    "all_student_final = arr1\n",
    "# for i in arr1:    \n",
    "#     print(i)"
   ]
  },
  {
   "cell_type": "markdown",
   "id": "ce0336e5",
   "metadata": {},
   "source": [
    "# create a file insert cloumn with intervals as arrays of slots that the students are free in"
   ]
  },
  {
   "cell_type": "code",
   "execution_count": 24,
   "id": "91034756",
   "metadata": {},
   "outputs": [],
   "source": [
    "\n",
    "\n",
    "shutil.copy(\"stufree.xlsx\", \"stufreeEdited.xlsx\")\n",
    "writer = pd.ExcelWriter('stufreeEdited.xlsx', engine='openpyxl') \n",
    "df = pd.read_excel(\"stufree.xlsx\");\n",
    "wb  = writer.book\n",
    "df.insert(3, 'Time_array', arr1,  allow_duplicates = False)\n",
    "df.to_excel(writer, index=False)\n",
    "wb.save('stufreeEdited.xlsx')"
   ]
  },
  {
   "cell_type": "code",
   "execution_count": 25,
   "id": "e419be14",
   "metadata": {},
   "outputs": [
    {
     "data": {
      "text/plain": [
       "['Ashlyn Reich',\n",
       " 'Aurelio Molina',\n",
       " 'Avril Boling',\n",
       " 'Belva Daugherty',\n",
       " 'Brandee Howerton',\n",
       " 'Carolann Willett',\n",
       " 'Cassy Bullard',\n",
       " 'Chi Locke',\n",
       " 'Chloe Marlow',\n",
       " 'Clair Crum',\n",
       " 'Conception Bollinger',\n",
       " 'Cristie Mcneely',\n",
       " 'Danyel Melancon',\n",
       " 'Eleanora Lunsford',\n",
       " 'Estefana Terrell',\n",
       " 'Fabian Marin',\n",
       " 'Felipa Kenyon',\n",
       " 'Gaynelle Kasper',\n",
       " 'Hye Fain',\n",
       " 'Isabella Stock',\n",
       " 'Jayme Turley',\n",
       " 'Joesph Fairbanks',\n",
       " 'Leontine Talbot',\n",
       " 'Ligia Lancaster',\n",
       " 'Lilli Vail',\n",
       " 'Maryanne Burkholder',\n",
       " 'Mathilda Snead',\n",
       " 'Mellisa Daly',\n",
       " 'Myrle Stephenson',\n",
       " 'Norberto Lavender',\n",
       " 'Palmira Lyles',\n",
       " 'Rachell Villareal',\n",
       " 'Reed Williford',\n",
       " 'Riva Hurd',\n",
       " 'Rivka Wiley',\n",
       " 'Ronald Pinkerton',\n",
       " 'Samual Blank',\n",
       " 'Saran Albers',\n",
       " 'Sibyl Peacock',\n",
       " 'Stephany Willard',\n",
       " 'Taryn Choate',\n",
       " 'Vanetta Forbes',\n",
       " 'Viviana Stockton',\n",
       " 'Xenia Valenti']"
      ]
     },
     "execution_count": 25,
     "metadata": {},
     "output_type": "execute_result"
    }
   ],
   "source": [
    "# create an array of the students full name\n",
    "fname = stu['fname']\n",
    "lname = stu['lname']\n",
    "all_student = [] \n",
    "for f, l in zip(fname, lname):\n",
    "   all_student.append(f + \" \" + l)\n",
    "all_student"
   ]
  },
  {
   "cell_type": "markdown",
   "id": "a8a06b69",
   "metadata": {},
   "source": [
    "# Reading company"
   ]
  },
  {
   "cell_type": "code",
   "execution_count": 26,
   "id": "8454fd83",
   "metadata": {},
   "outputs": [
    {
     "name": "stdout",
     "output_type": "stream",
     "text": [
      "sheets: \n",
      "Apple\n",
      "Facebook\n"
     ]
    }
   ],
   "source": [
    "import pandas as pd\n",
    "from openpyxl import load_workbook\n",
    "\n",
    "wb = load_workbook(\"company_list.xlsx\")\n",
    "wb.active\n",
    "print(\"sheets: \")\n",
    "for sheet in wb.worksheets:\n",
    "    print (str(sheet).replace('<Worksheet \"', \"\").replace('\">', \"\"))\n",
    "    "
   ]
  },
  {
   "cell_type": "code",
   "execution_count": 27,
   "id": "54d399da",
   "metadata": {},
   "outputs": [
    {
     "name": "stdout",
     "output_type": "stream",
     "text": [
      "Apple Row:  8\n",
      "Apple Column:  3\n",
      "Facebook Row:  7\n",
      "Facebook Column:  3\n"
     ]
    }
   ],
   "source": [
    "\n",
    "for sheet in wb.worksheets: \n",
    "    comapny1 = (str(sheet).replace('<Worksheet \"', \"\").replace('\">', \"\"))\n",
    "    \n",
    "    print(comapny1,\"Row: \" , sheet.max_row)\n",
    "    \n",
    "    print((str(sheet).replace('<Worksheet \"', \"\").replace('\">', \"\")),\"Column: \" , sheet.max_column)"
   ]
  },
  {
   "cell_type": "markdown",
   "id": "7f8485e4",
   "metadata": {},
   "source": [
    "#  Apple"
   ]
  },
  {
   "cell_type": "code",
   "execution_count": 28,
   "id": "3ddba5cc",
   "metadata": {},
   "outputs": [
    {
     "name": "stdout",
     "output_type": "stream",
     "text": [
      "Saran\n",
      "Sibyl\n",
      "Stephany\n",
      "Taryn\n",
      "Vanetta\n",
      "None\n",
      "None\n"
     ]
    }
   ],
   "source": [
    "max_row_apple = wb['Apple'].max_row\n",
    "apple_student = wb['Apple']['A2':f'B{max_row_apple}']\n",
    "for row in apple_student:\n",
    "    print (row[0].value )\n",
    "    "
   ]
  },
  {
   "cell_type": "code",
   "execution_count": 29,
   "id": "01f67540",
   "metadata": {},
   "outputs": [
    {
     "data": {
      "text/plain": [
       "['Saran Albers',\n",
       " 'Sibyl Peacock',\n",
       " 'Stephany Willard',\n",
       " 'Taryn Choate',\n",
       " 'Vanetta Forbes']"
      ]
     },
     "execution_count": 29,
     "metadata": {},
     "output_type": "execute_result"
    }
   ],
   "source": [
    "max_row_apple = wb['Apple'].max_row\n",
    "apple_student = wb['Apple']['A2':f'B{max_row_apple}']\n",
    "apple_stu_names = []\n",
    "for row in apple_student:\n",
    "    \n",
    "    if row[0].value != None and row[1].value != None :\n",
    "        apple_stu_names.append(row[0].value + \" \" + row[1].value )\n",
    "apple_stu_names"
   ]
  },
  {
   "cell_type": "markdown",
   "id": "be35ddb3",
   "metadata": {},
   "source": [
    "# facebook"
   ]
  },
  {
   "cell_type": "code",
   "execution_count": 30,
   "id": "70354900",
   "metadata": {},
   "outputs": [
    {
     "data": {
      "text/plain": [
       "['Ashlyn Reich',\n",
       " 'Aurelio Molina',\n",
       " 'Avril Boling',\n",
       " 'Belva Daugherty',\n",
       " 'Brandee Howerton',\n",
       " 'Carolann Willett']"
      ]
     },
     "execution_count": 30,
     "metadata": {},
     "output_type": "execute_result"
    }
   ],
   "source": [
    "max_row_facebook = wb['Facebook'].max_row\n",
    "facebook_student = wb['Facebook']['A2':f'B{max_row_facebook}']\n",
    "facebook_stu_names = []\n",
    "for row in facebook_student:\n",
    "    if row[0].value != None:\n",
    "        facebook_stu_names.append(row[0].value + \" \" + row[1].value )\n",
    "facebook_stu_names"
   ]
  },
  {
   "cell_type": "code",
   "execution_count": 31,
   "id": "cb1d6ba9",
   "metadata": {},
   "outputs": [
    {
     "name": "stdout",
     "output_type": "stream",
     "text": [
      "33 11\n"
     ]
    }
   ],
   "source": [
    "\n",
    "copyOfstudent = all_student\n",
    "companySTUDENT = []\n",
    "\n",
    "companySTUDENT= apple_stu_names + facebook_stu_names\n",
    "\n",
    "\n",
    "for i , j in zip(companySTUDENT, copyOfstudent):\n",
    "\n",
    "\n",
    "    if i in copyOfstudent:\n",
    "\n",
    "        copyOfstudent.remove(i)\n",
    "\n",
    "print(len(copyOfstudent),len(companySTUDENT) )"
   ]
  },
  {
   "cell_type": "code",
   "execution_count": 32,
   "id": "5f799c52",
   "metadata": {},
   "outputs": [
    {
     "data": {
      "text/plain": [
       "{'Ashlyn Reich': ['10', '10:30', '11', '11:30', '12', '12:30', '1', '1:30'],\n",
       " 'Aurelio Molina': ['10',\n",
       "  '10:30',\n",
       "  '11',\n",
       "  '11:30',\n",
       "  '12',\n",
       "  '12:30',\n",
       "  '1',\n",
       "  '1:30',\n",
       "  '2',\n",
       "  '2:30'],\n",
       " 'Avril Boling': ['10',\n",
       "  '10:30',\n",
       "  '11',\n",
       "  '11:30',\n",
       "  '12',\n",
       "  '12:30',\n",
       "  '1',\n",
       "  '1:30',\n",
       "  '2',\n",
       "  '2:30'],\n",
       " 'Belva Daugherty': ['4'],\n",
       " 'Brandee Howerton': ['2', '2:30', '3', '3:30', '4'],\n",
       " 'Carolann Willett': \"['12:30', '1', '1:30'] and  ['3', '3:30', '4']\",\n",
       " 'Cassy Bullard': ['10', '10:30', '11', '11:30', '12', '12:30', '1', '1:30'],\n",
       " 'Chi Locke': ['2', '2:30'],\n",
       " 'Chloe Marlow': \"['10', '10:30', '11', '11:30', '12', '12:30'] and  ['3', '3:30', '4']\",\n",
       " 'Clair Crum': ['3', '3:30', '4'],\n",
       " 'Conception Bollinger': ['10',\n",
       "  '10:30',\n",
       "  '11',\n",
       "  '11:30',\n",
       "  '12',\n",
       "  '12:30',\n",
       "  '1',\n",
       "  '1:30'],\n",
       " 'Cristie Mcneely': ['1', '1:30', '2', '2:30', '3', '3:30', '4'],\n",
       " 'Danyel Melancon': ['1', '1:30', '2', '2:30'],\n",
       " 'Eleanora Lunsford': ['10',\n",
       "  '10:30',\n",
       "  '11',\n",
       "  '11:30',\n",
       "  '12',\n",
       "  '12:30',\n",
       "  '1',\n",
       "  '1:30'],\n",
       " 'Estefana Terrell': ['11',\n",
       "  '11:30',\n",
       "  '12',\n",
       "  '12:30',\n",
       "  '1',\n",
       "  '1:30',\n",
       "  '2',\n",
       "  '2:30',\n",
       "  '3',\n",
       "  '3:30',\n",
       "  '4'],\n",
       " 'Fabian Marin': ['10',\n",
       "  '10:30',\n",
       "  '11',\n",
       "  '11:30',\n",
       "  '12',\n",
       "  '12:30',\n",
       "  '1',\n",
       "  '1:30',\n",
       "  '2',\n",
       "  '2:30',\n",
       "  '3',\n",
       "  '3:30',\n",
       "  '4'],\n",
       " 'Felipa Kenyon': ['10', '10:30', '11', '11:30'],\n",
       " 'Gaynelle Kasper': ['10',\n",
       "  '10:30',\n",
       "  '11',\n",
       "  '11:30',\n",
       "  '12',\n",
       "  '12:30',\n",
       "  '1',\n",
       "  '1:30',\n",
       "  '2',\n",
       "  '2:30',\n",
       "  '3',\n",
       "  '3:30',\n",
       "  '4'],\n",
       " 'Hye Fain': \"['11', '11:30', '12', '12:30', '1', '1:30'] and  ['4']\",\n",
       " 'Isabella Stock': ['1', '1:30', '2', '2:30', '3', '3:30', '4'],\n",
       " 'Jayme Turley': ['2', '2:30', '3', '3:30'],\n",
       " 'Joesph Fairbanks': ['10',\n",
       "  '10:30',\n",
       "  '11',\n",
       "  '11:30',\n",
       "  '12',\n",
       "  '12:30',\n",
       "  '1',\n",
       "  '1:30',\n",
       "  '2',\n",
       "  '2:30',\n",
       "  '3',\n",
       "  '3:30',\n",
       "  '4'],\n",
       " 'Leontine Talbot': ['10',\n",
       "  '10:30',\n",
       "  '11',\n",
       "  '11:30',\n",
       "  '12',\n",
       "  '12:30',\n",
       "  '1',\n",
       "  '1:30',\n",
       "  '2',\n",
       "  '2:30',\n",
       "  '3',\n",
       "  '3:30',\n",
       "  '4'],\n",
       " 'Ligia Lancaster': ['4'],\n",
       " 'Lilli Vail': ['12', '12:30', '1', '1:30', '2', '2:30', '3', '3:30', '4'],\n",
       " 'Maryanne Burkholder': \"['11', '11:30', '12', '12:30', '1', '1:30'] and  ['4']\",\n",
       " 'Mathilda Snead': ['11', '11:30', '12', '12:30', '1', '1:30', '2', '2:30'],\n",
       " 'Mellisa Daly': \"['10', '10:30'] and  ['1', '1:30', '2', '2:30', '3', '3:30', '4']\",\n",
       " 'Myrle Stephenson': ['10',\n",
       "  '10:30',\n",
       "  '11',\n",
       "  '11:30',\n",
       "  '12',\n",
       "  '12:30',\n",
       "  '1',\n",
       "  '1:30',\n",
       "  '2',\n",
       "  '2:30',\n",
       "  '3',\n",
       "  '3:30',\n",
       "  '4'],\n",
       " 'Norberto Lavender': \"['10', '10:30', '11', '11:30', '12', '12:30', '1', '1:30', '2'] and  ['4']\",\n",
       " 'Palmira Lyles': ['1', '1:30', '2', '2:30', '3', '3:30', '4'],\n",
       " 'Rachell Villareal': ['10',\n",
       "  '10:30',\n",
       "  '11',\n",
       "  '11:30',\n",
       "  '12',\n",
       "  '12:30',\n",
       "  '1',\n",
       "  '1:30',\n",
       "  '2',\n",
       "  '2:30',\n",
       "  '3',\n",
       "  '3:30',\n",
       "  '4'],\n",
       " 'Reed Williford': ['1', '1:30', '2', '2:30', '3', '3:30', '4'],\n",
       " 'Riva Hurd': ['1', '1:30', '2', '2:30', '3', '3:30', '4'],\n",
       " 'Rivka Wiley': ['10',\n",
       "  '10:30',\n",
       "  '11',\n",
       "  '11:30',\n",
       "  '12',\n",
       "  '12:30',\n",
       "  '1',\n",
       "  '1:30',\n",
       "  '2',\n",
       "  '2:30',\n",
       "  '3',\n",
       "  '3:30',\n",
       "  '4'],\n",
       " 'Ronald Pinkerton': ['1:30', '2', '2:30', '3', '3:30', '4'],\n",
       " 'Samual Blank': ['2', '2:30', '3', '3:30', '4'],\n",
       " 'Saran Albers': ['12', '12:30', '1', '1:30', '2', '2:30', '3', '3:30', '4'],\n",
       " 'Sibyl Peacock': \"['10', '10:30', '11', '11:30'] and  ['3', '3:30', '4']\",\n",
       " 'Stephany Willard': ['3:30', '4'],\n",
       " 'Taryn Choate': ['3', '3:30', '4'],\n",
       " 'Vanetta Forbes': ['1', '1:30', '2', '2:30', '3', '3:30', '4'],\n",
       " 'Viviana Stockton': ['12',\n",
       "  '12:30',\n",
       "  '1',\n",
       "  '1:30',\n",
       "  '2',\n",
       "  '2:30',\n",
       "  '3',\n",
       "  '3:30',\n",
       "  '4'],\n",
       " 'Xenia Valenti': ['1', '1:30', '2', '2:30', '3', '3:30', '4']}"
      ]
     },
     "execution_count": 32,
     "metadata": {},
     "output_type": "execute_result"
    }
   ],
   "source": [
    "# all student time in dict\n",
    "arr1\n",
    "stu_dict ={}\n",
    "count = 0\n",
    "for i, j , h in zip(stu['fname'], stu['lname'], arr1):\n",
    "    name = i+ \" \"+ j\n",
    "    stu_dict[name] = h\n",
    "stu_dict"
   ]
  },
  {
   "cell_type": "code",
   "execution_count": 33,
   "id": "d43aa1b7",
   "metadata": {},
   "outputs": [
    {
     "data": {
      "text/plain": [
       "14"
      ]
     },
     "execution_count": 33,
     "metadata": {},
     "output_type": "execute_result"
    }
   ],
   "source": [
    "arr_interval_company = [\"10\", \"10:30\", \"11\", \"11:30\", \"12\", \"12:30\", \"1\", \"1:30\", \"2\", \"2:30\", \"3\", \"3:30\", \"4\", \"4:30\"]\n",
    "len(arr_interval_company)"
   ]
  },
  {
   "cell_type": "code",
   "execution_count": 34,
   "id": "6c526661",
   "metadata": {},
   "outputs": [
    {
     "name": "stdout",
     "output_type": "stream",
     "text": [
      "Ashlyn Reich : ['10', '10:30', '11', '11:30', '12', '12:30', '1', '1:30']\n",
      "Aurelio Molina : ['10', '10:30', '11', '11:30', '12', '12:30', '1', '1:30', '2', '2:30']\n",
      "Avril Boling : ['10', '10:30', '11', '11:30', '12', '12:30', '1', '1:30', '2', '2:30']\n",
      "Belva Daugherty : ['4']\n",
      "Brandee Howerton : ['2', '2:30', '3', '3:30', '4']\n",
      "Carolann Willett : ['12:30', '1', '1:30'] and  ['3', '3:30', '4']\n"
     ]
    },
    {
     "data": {
      "text/plain": [
       "{'Ashlyn Reich': ['10', '10:30', '11', '11:30', '12', '12:30', '1', '1:30'],\n",
       " 'Aurelio Molina': ['10',\n",
       "  '10:30',\n",
       "  '11',\n",
       "  '11:30',\n",
       "  '12',\n",
       "  '12:30',\n",
       "  '1',\n",
       "  '1:30',\n",
       "  '2',\n",
       "  '2:30'],\n",
       " 'Avril Boling': ['10',\n",
       "  '10:30',\n",
       "  '11',\n",
       "  '11:30',\n",
       "  '12',\n",
       "  '12:30',\n",
       "  '1',\n",
       "  '1:30',\n",
       "  '2',\n",
       "  '2:30'],\n",
       " 'Belva Daugherty': ['4'],\n",
       " 'Brandee Howerton': ['2', '2:30', '3', '3:30', '4'],\n",
       " 'Carolann Willett': ['12:30', '1', '1:30', '3', '3:30', '4']}"
      ]
     },
     "execution_count": 34,
     "metadata": {},
     "output_type": "execute_result"
    }
   ],
   "source": [
    "# loop through facebook\n",
    "\n",
    "import ast\n",
    "str_temp  = \"\"\n",
    "facebook_stu_dic = {}\n",
    "for i in  facebook_stu_names:\n",
    "    print(i ,\":\",stu_dict [i])\n",
    "    if type(stu_dict [i])== type(\"stu_dict [i]\"):\n",
    "        str_temp = stu_dict [i]\n",
    "        x = (str_temp.replace(\"] and  [\", \",\"))\n",
    "        x = x.replace(\" \", \"\")\n",
    "        x2 = ast.literal_eval(x)\n",
    "        stu_dict [i]= x2\n",
    "    facebook_stu_dic [i] = stu_dict [i]  \n",
    "facebook_stu_dic"
   ]
  },
  {
   "cell_type": "code",
   "execution_count": 35,
   "id": "1a9edc9f",
   "metadata": {},
   "outputs": [
    {
     "name": "stdout",
     "output_type": "stream",
     "text": [
      "tier b ['10', '10:30', '11', '11:30', '12', '12:30', '1', '1:30']\n",
      "tier b ['10', '10:30', '11', '11:30', '12', '12:30', '1', '1:30', '2', '2:30']\n",
      "tier b ['10', '10:30', '11', '11:30', '12', '12:30', '1', '1:30', '2', '2:30']\n",
      "tier a ['4']\n",
      "tier b ['2', '2:30', '3', '3:30', '4']\n",
      "tier b ['12:30', '1', '1:30', '3', '3:30', '4']\n"
     ]
    }
   ],
   "source": [
    "for i in facebook_stu_dic:\n",
    "    if len(facebook_stu_dic[i]) < 5:\n",
    "        \n",
    "        print(\"tier a\", facebook_stu_dic[i])\n",
    "        \n",
    "    elif len(facebook_stu_dic[i]) <= 10:\n",
    "         print(\"tier b\", facebook_stu_dic[i])\n",
    "    \n",
    "    elif len(facebook_stu_dic[i]) <= 14:\n",
    "        print(\"tier c\", facebook_stu_dic[i])\n",
    "        \n",
    "        "
   ]
  },
  {
   "cell_type": "code",
   "execution_count": 36,
   "id": "57afc2b3",
   "metadata": {},
   "outputs": [],
   "source": [
    "def scheduling(companyList, company_ava_dic, i):\n",
    "    if i not in company_ava_dic.values():\n",
    "#         print(company_ava_dic)\n",
    "        if len(companyList[i])> 0:\n",
    "#             indexofchonesn = companyList[i].index(random.choice(companyList[i]))\n",
    "            \n",
    "            company_ava_dic[stu_dict[i].pop(0)]= i\n",
    "#             print(\"asfdsa\")\n",
    "    \n",
    "def TieringCompany(companyList, company_ava_dic):\n",
    "    #Tier A\n",
    "    for i in companyList:\n",
    "        if len(companyList[i]) <= 1  :\n",
    "            scheduling(companyList, company_ava_dic, i)\n",
    "#     print(\"A:\", companyList[i])\n",
    "    for i in companyList:\n",
    "        if len(companyList[i]) >=2  and len(companyList[i]) <= 5 :\n",
    "            scheduling(companyList, company_ava_dic, i)\n",
    "#     print(\"A:\", companyList[i])\n",
    "    \n",
    "            \n",
    "    for i in companyList:\n",
    "        if len(companyList[i]) >= 6 and len(companyList[i]) <= 10 :\n",
    "            scheduling(companyList,company_ava_dic, i)\n",
    "#     print(\"B:\", companyList[i])\n",
    "    for i in companyList:\n",
    "        if  len(companyList[i]) > 10 :\n",
    "            scheduling(companyList, company_ava_dic, i)\n",
    "#     print(\"C:\", companyList[i])\n",
    "    return company_ava_dic\n"
   ]
  },
  {
   "cell_type": "code",
   "execution_count": 37,
   "id": "43905ed3",
   "metadata": {},
   "outputs": [
    {
     "data": {
      "text/plain": [
       "{'10': 'Avril Boling',\n",
       " '10:30': '',\n",
       " '11': '',\n",
       " '11:30': '',\n",
       " '12': '',\n",
       " '12:30': 'Carolann Willett',\n",
       " '1': '',\n",
       " '1:30': '',\n",
       " '2': 'Brandee Howerton',\n",
       " '2:30': '',\n",
       " '3': '',\n",
       " '3:30': '',\n",
       " '4': 'Belva Daugherty',\n",
       " '4:30': ''}"
      ]
     },
     "execution_count": 37,
     "metadata": {},
     "output_type": "execute_result"
    }
   ],
   "source": [
    "facebook_ava_arr = arr_interval_company \n",
    "facebook_ava_dic = {i : \"\" for i in facebook_ava_arr }\n",
    "# print(facebook_ava_dic)\n",
    "TieringCompany( facebook_stu_dic, facebook_ava_dic)"
   ]
  },
  {
   "cell_type": "code",
   "execution_count": 38,
   "id": "46b38013",
   "metadata": {},
   "outputs": [
    {
     "data": {
      "text/plain": [
       "{'Saran Albers': ['12', '12:30', '1', '1:30', '2', '2:30', '3', '3:30', '4'],\n",
       " 'Sibyl Peacock': ['10', '10:30', '11', '11:30', '3', '3:30', '4'],\n",
       " 'Stephany Willard': ['3:30', '4'],\n",
       " 'Taryn Choate': ['3', '3:30', '4'],\n",
       " 'Vanetta Forbes': ['1', '1:30', '2', '2:30', '3', '3:30', '4']}"
      ]
     },
     "execution_count": 38,
     "metadata": {},
     "output_type": "execute_result"
    }
   ],
   "source": [
    "def create_company_student_dict(company_stu_names):\n",
    "    import ast\n",
    "    str_temp  = \"\"\n",
    "    company_stu_dic = {}\n",
    "    for i in  company_stu_names:\n",
    "#         print(i ,\":\",stu_dict [i])\n",
    "        if type(stu_dict [i])== type(\"stu_dict [i]\"):\n",
    "            str_temp = stu_dict [i]\n",
    "            x = (str_temp.replace(\"] and  [\", \",\"))\n",
    "            x = x.replace(\" \", \"\")\n",
    "            x2 = ast.literal_eval(x)\n",
    "            stu_dict [i]= x2\n",
    "        company_stu_dic [i] = stu_dict [i]  \n",
    "    return company_stu_dic\n",
    "create_company_student_dict (apple_stu_names)\n"
   ]
  },
  {
   "cell_type": "code",
   "execution_count": 39,
   "id": "af3364ef",
   "metadata": {},
   "outputs": [
    {
     "name": "stdout",
     "output_type": "stream",
     "text": [
      "{'10': '', '10:30': '', '11': '', '11:30': '', '12': '', '12:30': '', '1': '', '1:30': '', '2': '', '2:30': '', '3': '', '3:30': '', '4': '', '4:30': ''}\n"
     ]
    },
    {
     "data": {
      "text/plain": [
       "{'Saran Albers': ['12', '12:30', '1', '1:30', '2', '2:30', '3', '3:30', '4'],\n",
       " 'Sibyl Peacock': ['10', '10:30', '11', '11:30', '3', '3:30', '4'],\n",
       " 'Stephany Willard': ['3:30', '4'],\n",
       " 'Taryn Choate': ['3', '3:30', '4'],\n",
       " 'Vanetta Forbes': ['1', '1:30', '2', '2:30', '3', '3:30', '4']}"
      ]
     },
     "execution_count": 39,
     "metadata": {},
     "output_type": "execute_result"
    }
   ],
   "source": [
    "\n",
    "apple_ava_dic = {i : \"\" for i in arr_interval_company }\n",
    "print(apple_ava_dic)\n",
    "apple_stu_dic = create_company_student_dict (apple_stu_names)\n",
    "apple_stu_dic\n",
    "# TieringCompany( apple_stu_dic, apple_ava_dic)"
   ]
  },
  {
   "cell_type": "code",
   "execution_count": 40,
   "id": "6bbf26c2",
   "metadata": {},
   "outputs": [],
   "source": [
    "interivew_schedule = TieringCompany( apple_stu_dic, apple_ava_dic)\n",
    "\n"
   ]
  }
 ],
 "metadata": {
  "kernelspec": {
   "display_name": "Python 3 (ipykernel)",
   "language": "python",
   "name": "python3"
  },
  "language_info": {
   "codemirror_mode": {
    "name": "ipython",
    "version": 3
   },
   "file_extension": ".py",
   "mimetype": "text/x-python",
   "name": "python",
   "nbconvert_exporter": "python",
   "pygments_lexer": "ipython3",
   "version": "3.8.2"
  }
 },
 "nbformat": 4,
 "nbformat_minor": 5
}
