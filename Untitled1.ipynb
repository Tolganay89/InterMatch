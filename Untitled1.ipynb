{
 "cells": [
  {
   "cell_type": "code",
   "execution_count": 18,
   "id": "a51dd013",
   "metadata": {},
   "outputs": [],
   "source": [
    "import pandas as pd\n",
    "from openpyxl import load_workbook\n",
    "import pandas as pd\n",
    "import shutil\n",
    "import pandas as pd\n",
    "from openpyxl import load_workbook\n",
    "import pandas as pd\n",
    "from openpyxl import load_workbook\n",
    "\n",
    "\n"
   ]
  },
  {
   "cell_type": "markdown",
   "id": "79a1de35",
   "metadata": {},
   "source": [
    "# step 1 getting students time interval correctly   "
   ]
  },
  {
   "cell_type": "code",
   "execution_count": 24,
   "id": "53302bbb",
   "metadata": {},
   "outputs": [],
   "source": [
    "def get_student_available_time_slot(stu_excel_file):\n",
    "    \n",
    "    \n",
    "    # holds all the intervals students have    \n",
    "    free_time_interval = list(stu_excel_file['free'])\n",
    "    \n",
    "    # holds all slots students have  \n",
    "    get_student_available_time_slot_arr = []\n",
    "    \n",
    "    all_slots = [\"10\", \"10:30\", \"11\", \"11:30\", \"12\", \"12:30\", \"1\", \"1:30\", \"2\", \"2:30\", \"3\", \"3:30\", \"4\", \"4:30\", \"5:00\"]\n",
    "#     print(free_time)\n",
    "    for i in free_time_interval:\n",
    "        \n",
    "        i = i.replace(\" \", \"\")\n",
    "        i = i.replace(\".\", \"\")\n",
    "        i = i.replace(\"230\", \"2:30\")\n",
    "        i = i.replace(\"330\", \"3:30\")\n",
    "#       i = i.replace(\"5\", \"4:30\")\n",
    "        i = i.replace(\"5\", \"5:00\")\n",
    "        #more than interval\n",
    "        if \"and\" in i:\n",
    "            i = i.replace(\"and\", \"--\")\n",
    "            print(i)\n",
    "            \n",
    "        # one interval           \n",
    "        x = i.split(\"-\")\n",
    "        if len(x) > 2: \n",
    "            print(x)\n",
    "            st = f'{all_slots[all_slots.index(x[0]):all_slots.index(x[1])]} and  {all_slots[all_slots.index(x[3]) : all_slots.index(x[4])]}  '\n",
    "            print(st)\n",
    "            get_student_available_time_slot_arr.append(st)\n",
    "            \n",
    "            \n",
    "        else:\n",
    "            get_student_available_time_slot_arr.append(all_slots[all_slots.index(x[0]):all_slots.index(x[1])])\n",
    "    \n",
    "    return get_student_available_time_slot_arr \n",
    "\n",
    "# get_student_available_time_slot_arr = get_student_available_time_slot()\n",
    "\n",
    "# len(get_student_available_time_slot_arr)\n"
   ]
  },
  {
   "cell_type": "code",
   "execution_count": 28,
   "id": "a3478537",
   "metadata": {},
   "outputs": [],
   "source": [
    "def fix_free_to_slots(get_student_available_time_slot_arr):\n",
    "    shutil.copy(\"stufree.xlsx\", \"stufreeEdited.xlsx\")\n",
    "    writer = pd.ExcelWriter('stufreeEdited.xlsx', engine='openpyxl') \n",
    "    df = pd.read_excel(\"stufree.xlsx\");\n",
    "    wb  = writer.book\n",
    "    df.insert(3, 'Time_array', get_student_available_time_slot_arr,  allow_duplicates = False)\n",
    "    df.to_excel(writer, index=False)\n",
    "    wb.save('stufreeEdited.xlsx')\n"
   ]
  },
  {
   "cell_type": "code",
   "execution_count": 26,
   "id": "f727e50c",
   "metadata": {},
   "outputs": [],
   "source": [
    "def get_stu_fullname_array(stu):\n",
    "    # create an array of the students full name\n",
    "    fname = stu['fname']\n",
    "    lname = stu['lname']\n",
    "    all_student = [] \n",
    "    for f, l in zip(fname, lname):\n",
    "        all_student.append(f + \" \" + l)\n",
    "    return all_student\n"
   ]
  },
  {
   "cell_type": "code",
   "execution_count": 29,
   "id": "0f6ed808",
   "metadata": {},
   "outputs": [
    {
     "name": "stdout",
     "output_type": "stream",
     "text": [
      "12:30-2--3-5:00\n",
      "['12:30', '2', '', '3', '5:00']\n",
      "['12:30', '1', '1:30'] and  ['3', '3:30', '4', '4:30']  \n",
      "10-1--3-5:00\n",
      "['10', '1', '', '3', '5:00']\n",
      "['10', '10:30', '11', '11:30', '12', '12:30'] and  ['3', '3:30', '4', '4:30']  \n",
      "11-2--4-5:00\n",
      "['11', '2', '', '4', '5:00']\n",
      "['11', '11:30', '12', '12:30', '1', '1:30'] and  ['4', '4:30']  \n",
      "11-2--4-5:00\n",
      "['11', '2', '', '4', '5:00']\n",
      "['11', '11:30', '12', '12:30', '1', '1:30'] and  ['4', '4:30']  \n",
      "10-11--1-5:00\n",
      "['10', '11', '', '1', '5:00']\n",
      "['10', '10:30'] and  ['1', '1:30', '2', '2:30', '3', '3:30', '4', '4:30']  \n",
      "10-2:30--4-5:00\n",
      "['10', '2:30', '', '4', '5:00']\n",
      "['10', '10:30', '11', '11:30', '12', '12:30', '1', '1:30', '2'] and  ['4', '4:30']  \n",
      "10-12--3-5:00\n",
      "['10', '12', '', '3', '5:00']\n",
      "['10', '10:30', '11', '11:30'] and  ['3', '3:30', '4', '4:30']  \n"
     ]
    }
   ],
   "source": [
    "# main program\n",
    "stu_excel_file = pd.read_excel(\"stufree.xlsx\")\n",
    "get_student_available_time_slot_arr = get_student_available_time_slot(stu_excel_file)\n",
    "fix_free_to_slots( get_student_available_time_slot_arr)\n",
    "all_students = get_stu_fullname_array(stu_excel_file )"
   ]
  },
  {
   "cell_type": "code",
   "execution_count": null,
   "id": "7a676af5",
   "metadata": {},
   "outputs": [],
   "source": []
  }
 ],
 "metadata": {
  "kernelspec": {
   "display_name": "Python 3 (ipykernel)",
   "language": "python",
   "name": "python3"
  },
  "language_info": {
   "codemirror_mode": {
    "name": "ipython",
    "version": 3
   },
   "file_extension": ".py",
   "mimetype": "text/x-python",
   "name": "python",
   "nbconvert_exporter": "python",
   "pygments_lexer": "ipython3",
   "version": "3.8.2"
  }
 },
 "nbformat": 4,
 "nbformat_minor": 5
}
